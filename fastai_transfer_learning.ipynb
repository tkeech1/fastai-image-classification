{
 "cells": [
  {
   "cell_type": "code",
   "execution_count": null,
   "id": "49e07e77-753a-41f3-9755-0bcbe0aaaf8b",
   "metadata": {},
   "outputs": [],
   "source": [
    "from fastai.vision.all import *\n",
    "import pathlib"
   ]
  },
  {
   "cell_type": "code",
   "execution_count": null,
   "id": "b644e3db-e028-44b1-9711-1546d9e500cc",
   "metadata": {},
   "outputs": [],
   "source": [
    "# Download images from Bing\n",
    "# Review images after download and remove any inappropriate items\n",
    "\n",
    "#from bing_image_downloader import downloader\n",
    "#downloader.download(\"./images/pileated woodpecker\", limit=150,  output_dir='images', adult_filter_off=True, force_replace=False, timeout=60, verbose=True)\n",
    "#downloader.download(\"./images/red bellied woodpecker\", limit=150,  output_dir='images', adult_filter_off=True, force_replace=False, timeout=60, verbose=True)"
   ]
  },
  {
   "cell_type": "code",
   "execution_count": null,
   "id": "026bbdde-1d1f-4fa9-adf8-fe8e5416a298",
   "metadata": {},
   "outputs": [],
   "source": [
    "# load the images\n",
    "path = Path('images')\n",
    "fns = get_image_files(path/'pileated woodpecker')\n",
    "fns # fns is a fastai L object which combines functionality from both lists and numpy arrays"
   ]
  },
  {
   "cell_type": "code",
   "execution_count": null,
   "id": "f3d0352d-2560-458c-8919-2e3cc4ae34cc",
   "metadata": {},
   "outputs": [],
   "source": [
    "# create a datablock which fastai will be used to create the dataloaders object for training\n",
    "woodpeckers = DataBlock(\n",
    "    blocks=(ImageBlock, CategoryBlock), # A tuple specifying the type of independent data and dependent data \n",
    "    get_items=get_image_files, # A function that can load the data - get_image_files is a fastai function that loads all images in a given path\n",
    "    splitter=RandomSplitter(valid_pct=.2, seed=42), # A class that splits the data into a training and validation set\n",
    "    get_y=parent_label, # A function that gets the dependent variable - parent_label labels each image with its parent folder name\n",
    "    item_tfms=Resize(128), # Transforms to apply to the data - since downloaded images are different sizes, resize them\n",
    ")"
   ]
  },
  {
   "cell_type": "code",
   "execution_count": null,
   "id": "24cba544-7e66-4639-a58b-2765f306da9a",
   "metadata": {},
   "outputs": [],
   "source": [
    "# create the DataLoaders object\n",
    "dls = woodpeckers.dataloaders(path)"
   ]
  },
  {
   "cell_type": "code",
   "execution_count": null,
   "id": "1e3c656b-6916-4a42-99c7-27ebbe7d6f8d",
   "metadata": {},
   "outputs": [],
   "source": [
    "# show a few samples from the training set\n",
    "dls.train.show_batch(max_n=4, nrows=1)"
   ]
  },
  {
   "cell_type": "code",
   "execution_count": null,
   "id": "b1f2f6f6-1fd8-48ad-8007-e94fba532136",
   "metadata": {},
   "outputs": [],
   "source": [
    "# show a few samples from the validation set\n",
    "dls.valid.show_batch(max_n=4, nrows=1)"
   ]
  },
  {
   "cell_type": "code",
   "execution_count": null,
   "id": "fb1d57d9-8a42-4f14-b3f6-6e5b606ca310",
   "metadata": {},
   "outputs": [],
   "source": [
    "# apply final transforms\n",
    "woodpeckers = woodpeckers.new(item_tfms=RandomResizedCrop(224, min_scale=.5), batch_tfms=aug_transforms())\n",
    "dls = woodpeckers.dataloaders(path)\n",
    "dls.train.show_batch(max_n=8, nrows=2, unique=True) # unique=True shows the same image repeated with different ResizedRandomCrop transforms applied"
   ]
  },
  {
   "cell_type": "code",
   "execution_count": null,
   "id": "2e46a866-187f-43b8-a65a-6fd6ad484afe",
   "metadata": {},
   "outputs": [],
   "source": [
    "# train the model\n",
    "learn = cnn_learner(dls, resnet18, metrics=error_rate)\n",
    "learn.fine_tune(8)"
   ]
  },
  {
   "cell_type": "code",
   "execution_count": null,
   "id": "d428f869-12d2-4287-8d27-4fddf3e62e9d",
   "metadata": {},
   "outputs": [],
   "source": [
    "# analyze the predictions\n",
    "interp = ClassificationInterpretation.from_learner(learn)\n",
    "interp.plot_confusion_matrix()"
   ]
  },
  {
   "cell_type": "code",
   "execution_count": null,
   "id": "f3d3649d-cc8d-4068-84e7-6a06f189c607",
   "metadata": {},
   "outputs": [],
   "source": [
    "# to further analyze the mistakes, sort the images by loss\n",
    "interp.plot_top_losses(8, nrows=8)"
   ]
  },
  {
   "cell_type": "code",
   "execution_count": null,
   "id": "7e74ee26-79d1-4198-b375-7a20897c4d8f",
   "metadata": {},
   "outputs": [],
   "source": [
    "# export the model\n",
    "learn.export()"
   ]
  },
  {
   "cell_type": "code",
   "execution_count": null,
   "id": "c216b44b-d5b3-46aa-ac17-ca1fe19317fb",
   "metadata": {},
   "outputs": [],
   "source": [
    "# load the model\n",
    "learn_inf = load_learner('export.pkl')"
   ]
  },
  {
   "cell_type": "code",
   "execution_count": null,
   "id": "a173434c-6f5c-467c-9a60-67c44eec42b9",
   "metadata": {},
   "outputs": [],
   "source": [
    "# make a prediction\n",
    "#learn_inf.predict('images/pileated woodpecker/Image_1.jpeg')\n",
    "learn_inf.predict('images/red bellied woodpecker/Image_101.jpeg')\n",
    "\n",
    "# output is: class label, class id, probabilities"
   ]
  },
  {
   "cell_type": "code",
   "execution_count": null,
   "id": "0fbd4f59-3d4d-46b6-a8ad-c91822367851",
   "metadata": {},
   "outputs": [],
   "source": []
  }
 ],
 "metadata": {
  "kernelspec": {
   "display_name": "Python 3 (ipykernel)",
   "language": "python",
   "name": "python3"
  },
  "language_info": {
   "codemirror_mode": {
    "name": "ipython",
    "version": 3
   },
   "file_extension": ".py",
   "mimetype": "text/x-python",
   "name": "python",
   "nbconvert_exporter": "python",
   "pygments_lexer": "ipython3",
   "version": "3.8.5"
  }
 },
 "nbformat": 4,
 "nbformat_minor": 5
}
